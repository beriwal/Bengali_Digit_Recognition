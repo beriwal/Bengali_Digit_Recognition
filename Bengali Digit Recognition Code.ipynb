{
 "cells": [
  {
   "cell_type": "markdown",
   "execution_count": null,
   "metadata": {
    "id": "TLCd3o98GdiB"
   },
   "source": [
    "### **Import libraries**"
   ]
  },
  {
   "cell_type": "code",
   "execution_count": 1,
   "metadata": {
    "id": "c59Q8-WyQB0q"
   },
   "outputs": [],
   "source": [
    "import numpy as np\n",
    "import pandas as pd\n",
    "from sklearn.model_selection import train_test_split\n",
    "import math\n",
    "import io\n",
    "import os\n",
    "\n",
    "%matplotlib inline\n",
    "import matplotlib.pyplot as plt\n",
    "\n",
    "import torch\n",
    "import torchvision\n",
    "from torchvision import transforms, datasets\n",
    "import torch.nn as nn\n",
    "import torch.nn.functional as F\n",
    "import torch.optim as optim\n",
    "from torch.autograd import Variable\n",
    "import cv2\n",
    "import glob"
   ]
  },
  {
   "cell_type": "markdown",
   "execution_count": null,
   "metadata": {
    "id": "BZg3JF_8GpMy"
   },
   "source": [
    "### **Set the random seed**"
   ]
  },
  {
   "cell_type": "code",
   "execution_count": 2,
   "metadata": {
    "id": "YI0uy-RLQZbY"
   },
   "outputs": [],
   "source": [
    "seed = 3\n",
    "np.random.seed(seed)\n",
    "torch.manual_seed(seed)\n",
    "torch.backends.cudnn.deterministic = True\n",
    "torch.backends.cudnn.benchmark = False"
   ]
  },
  {
   "cell_type": "markdown",
   "execution_count": null,
   "metadata": {
    "id": "tCXc5TtQG-Ti"
   },
   "source": [
    "### **Load and preprocess data**"
   ]
  },
  {
   "cell_type": "code",
   "execution_count": 3,
   "metadata": {},
   "outputs": [],
   "source": [
    "import zipfile\n",
    "\n",
    "#unzip BDRW_train_1.zip\n",
    "z = zipfile.ZipFile('../input/bdrw/BDRW_train/BDRW_train_1.zip', \"r\")\n",
    "for name in z.namelist():\n",
    "    z.extract(name)\n",
    "    \n",
    "#unzip BDRW_train_2.zip    \n",
    "z = zipfile.ZipFile('../input/bdrw/BDRW_train/BDRW_train_2.zip', \"r\")\n",
    "for name in z.namelist():\n",
    "    z.extract(name)"
   ]
  },
  {
   "cell_type": "code",
   "execution_count": 4,
   "metadata": {},
   "outputs": [],
   "source": [
    "#read the excel file-labels.xls containing the image labels\n",
    "labels = pd.read_excel('BDRW_train_2/labels.xls')\n",
    "labels.columns = ['digit', 'label']"
   ]
  },
  {
   "cell_type": "code",
   "execution_count": 5,
   "metadata": {},
   "outputs": [
    {
     "data": {
      "text/html": [
       "<div>\n",
       "<style scoped>\n",
       "    .dataframe tbody tr th:only-of-type {\n",
       "        vertical-align: middle;\n",
       "    }\n",
       "\n",
       "    .dataframe tbody tr th {\n",
       "        vertical-align: top;\n",
       "    }\n",
       "\n",
       "    .dataframe thead th {\n",
       "        text-align: right;\n",
       "    }\n",
       "</style>\n",
       "<table border=\"1\" class=\"dataframe\">\n",
       "  <thead>\n",
       "    <tr style=\"text-align: right;\">\n",
       "      <th></th>\n",
       "      <th>digit</th>\n",
       "      <th>label</th>\n",
       "    </tr>\n",
       "  </thead>\n",
       "  <tbody>\n",
       "    <tr>\n",
       "      <th>0</th>\n",
       "      <td>digit_1</td>\n",
       "      <td>4</td>\n",
       "    </tr>\n",
       "    <tr>\n",
       "      <th>1</th>\n",
       "      <td>digit_2</td>\n",
       "      <td>2</td>\n",
       "    </tr>\n",
       "    <tr>\n",
       "      <th>2</th>\n",
       "      <td>digit_3</td>\n",
       "      <td>3</td>\n",
       "    </tr>\n",
       "    <tr>\n",
       "      <th>3</th>\n",
       "      <td>digit_4</td>\n",
       "      <td>1</td>\n",
       "    </tr>\n",
       "    <tr>\n",
       "      <th>4</th>\n",
       "      <td>digit_5</td>\n",
       "      <td>2</td>\n",
       "    </tr>\n",
       "  </tbody>\n",
       "</table>\n",
       "</div>"
      ],
      "text/plain": [
       "     digit  label\n",
       "0  digit_1      4\n",
       "1  digit_2      2\n",
       "2  digit_3      3\n",
       "3  digit_4      1\n",
       "4  digit_5      2"
      ]
     },
     "execution_count": 5,
     "metadata": {},
     "output_type": "execute_result"
    }
   ],
   "source": [
    "#view the labels dataframe\n",
    "labels.head()"
   ]
  },
  {
   "cell_type": "markdown",
   "execution_count": null,
   "metadata": {
    "id": "xPDdmuMjINK7"
   },
   "source": [
    "### **Check the class distribution**"
   ]
  },
  {
   "cell_type": "code",
   "execution_count": 6,
   "metadata": {
    "id": "XVXPiTvDeMdE",
    "outputId": "6a54f3b0-31ae-45dd-c69c-60788e2274c2"
   },
   "outputs": [
    {
     "data": {
      "text/plain": [
       "<matplotlib.axes._subplots.AxesSubplot at 0x7f9e7a24f410>"
      ]
     },
     "execution_count": 6,
     "metadata": {},
     "output_type": "execute_result"
    },
    {
     "data": {
      "image/png": "[encoded data removed]",
      "text/plain": [
       "<Figure size 432x288 with 1 Axes>"
      ]
     },
     "metadata": {
      "needs_background": "light"
     },
     "output_type": "display_data"
    }
   ],
   "source": [
    "#Plot a histogram with x-axis : class label, y-axis : percentage of data in that class\n",
    "labels['label'].hist(density = True)"
   ]
  },
  {
   "cell_type": "markdown",
   "execution_count": null,
   "metadata": {
    "id": "-su8p0eGHPAU"
   },
   "source": [
    "### **Read the images**"
   ]
  },
  {
   "cell_type": "code",
   "execution_count": 7,
   "metadata": {},
   "outputs": [
    {
     "name": "stdout",
     "output_type": "stream",
     "text": [
      "Number of images in BDRW_train_1:  984\n",
      "Number of images in BDRW_train_2:  410\n",
      "First 5 images in BDRW_train_1: ['digit_433', 'digit_695', 'digit_956', 'digit_897', 'digit_26']\n",
      "First 5 images in BDRW_train_2: ['digit_1377', 'digit_1226', 'digit_1188', 'digit_1373', 'digit_1199']\n"
     ]
    }
   ],
   "source": [
    "bdrw_train_1 = [f[13:-4] for f in glob.glob(\"BDRW_train_1/*\")] #list of image names in BDRW_train_1 folder\n",
    "bdrw_train_2 = [f[13:-4] for f in glob.glob(\"BDRW_train_2/*\")] #list of image names in BDRW_train_2 folder\n",
    "\n",
    "print('Number of images in BDRW_train_1: ', len(bdrw_train_1))\n",
    "print('Number of images in BDRW_train_2: ', len(bdrw_train_2))\n",
    "\n",
    "print('First 5 images in BDRW_train_1:', bdrw_train_1[:5])\n",
    "print('First 5 images in BDRW_train_2:', bdrw_train_2[:5])"
   ]
  },
  {
   "cell_type": "code",
   "execution_count": 8,
   "metadata": {
    "id": "VHQxlyjDZkxK",
    "outputId": "db1d09d2-a2f6-42ec-de36-8e8002b3784c"
   },
   "outputs": [
    {
     "name": "stdout",
     "output_type": "stream",
     "text": [
      "Shape of X:  (1392, 32, 32) \t Shape of y:  (1392,)\n"
     ]
    }
   ],
   "source": [
    "size = 32 #size of the resized image\n",
    "X = []\n",
    "\n",
    "for i,row in labels.iterrows(): #loop across the rows of the 'labels' dataframe\n",
    "    \n",
    "    #read the image in the 'digit' column of 'labels' dataframe\n",
    "    if(row['digit'] in bdrw_train_1): #if the image is in BDRW_train_1 folder\n",
    "        image = cv2.imread('BDRW_train_1/' + row['digit'] + \".jpg\", 0)  \n",
    "    else:  #if the image is in BDRW_train_2 folder\n",
    "        image = cv2.imread('BDRW_train_2/' + row['digit'] + \".jpg\", 0)\n",
    "        \n",
    "    image = cv2.resize(image, dsize = (size,size)) #resize the image\n",
    "    X.append(image) #append the image to the list\n",
    "\n",
    "X = np.array(X) #convert the image into numpy array\n",
    "X = X/float(255.0) #normalize the values\n",
    "y = labels['label'].values #get the labels\n",
    "\n",
    "print(\"Shape of X: \", X.shape, \"\\t Shape of y: \", y.shape)"
   ]
  },
  {
   "cell_type": "markdown",
   "execution_count": null,
   "metadata": {
    "id": "C1W45NCiKZ3s"
   },
   "source": [
    "### **Train-Test-Validation Split**"
   ]
  },
  {
   "cell_type": "code",
   "execution_count": 9,
   "metadata": {
    "id": "PwS8bCjLwIRt",
    "outputId": "0b96c324-fff0-48e6-92b0-391c7c28a364"
   },
   "outputs": [
    {
     "name": "stdout",
     "output_type": "stream",
     "text": [
      "Shape of train data: \t\t ((974, 32, 32), (974,))\n",
      "Shape of validation data: \t ((209, 32, 32), (209,))\n",
      "Shape of test data: \t\t ((209, 32, 32), (209,))\n"
     ]
    }
   ],
   "source": [
    "X_train, X_test, y_train, y_test = train_test_split(X, y, train_size = 0.70, random_state = 25, stratify = y) #put 70% data in train\n",
    "\n",
    "X_test, X_val, y_test, y_val = train_test_split(X_test, y_test, test_size = 0.50, random_state = 25, stratify = y_test) #put 15% data in test and validation each\n",
    "\n",
    "print(\"Shape of train data: \\t\\t\", (X_train.shape, y_train.shape))\n",
    "print(\"Shape of validation data: \\t\", (X_val.shape, y_val.shape))\n",
    "print(\"Shape of test data: \\t\\t\", (X_test.shape, y_test.shape))"
   ]
  },
  {
   "cell_type": "markdown",
   "execution_count": null,
   "metadata": {
    "id": "nE5KwDPpKvFn"
   },
   "source": [
    "### **Convert the data into usable torch format**"
   ]
  },
  {
   "cell_type": "code",
   "execution_count": 10,
   "metadata": {
    "id": "dwuUh3d4wLsO",
    "outputId": "acb1d082-660c-47e0-dfc5-df3d103d121e"
   },
   "outputs": [
    {
     "name": "stdout",
     "output_type": "stream",
     "text": [
      "Shape of train data, \t X :  torch.Size([974, 1, 32, 32]) \t and y:  torch.Size([974])\n",
      "Shape of val. data, \t X :  torch.Size([209, 1, 32, 32]) \t and y:  torch.Size([209])\n",
      "Shape of test data, \t X :  torch.Size([209, 1, 32, 32]) \t and y:  torch.Size([209])\n"
     ]
    }
   ],
   "source": [
    "# converting training images into torch format\n",
    "X_train = X_train.reshape(X_train.shape[0], 1, X_train.shape[1], X_train.shape[2])\n",
    "X_train  = torch.from_numpy(X_train)\n",
    "\n",
    "# converting the training labels into torch format\n",
    "y_train = y_train.astype(int);\n",
    "y_train = torch.from_numpy(y_train)\n",
    "y_train = y_train.squeeze()\n",
    "\n",
    "# shape of training data\n",
    "print(\"Shape of train data, \\t X : \", X_train.shape,\"\\t and y: \", y_train.shape)\n",
    "\n",
    "# converting validation images into torch format\n",
    "X_val = X_val.reshape(X_val.shape[0], 1, X_val.shape[1], X_val.shape[2])\n",
    "X_val  = torch.from_numpy(X_val)\n",
    "\n",
    "# converting the validation labels into torch format\n",
    "y_val = y_val.astype(int);\n",
    "y_val = torch.from_numpy(y_val)\n",
    "y_val = y_val.squeeze()\n",
    "\n",
    "# shape of validation data\n",
    "print(\"Shape of val. data, \\t X : \", X_val.shape,\"\\t and y: \", y_val.shape) \n",
    "\n",
    "# converting test images into torch format\n",
    "X_test = X_test.reshape(X_test.shape[0], 1, X_test.shape[1], X_test.shape[2])\n",
    "X_test  = torch.from_numpy(X_test)\n",
    "\n",
    "# converting the test labels into torch format\n",
    "y_test = y_test.astype(int);\n",
    "y_test = torch.from_numpy(y_test)\n",
    "y_test = y_test.squeeze()\n",
    "\n",
    "# shape of test data\n",
    "print(\"Shape of test data, \\t X : \", X_test.shape,\"\\t and y: \", y_test.shape) "
   ]
  },
  {
   "cell_type": "markdown",
   "execution_count": null,
   "metadata": {
    "id": "_fSNOc4hLYAI"
   },
   "source": [
    "### **Function to create minibatches**"
   ]
  },
  {
   "cell_type": "code",
   "execution_count": 11,
   "metadata": {
    "id": "piklJcVkwQkA"
   },
   "outputs": [],
   "source": [
    "def random_mini_batches(X, Y, mini_batch_size = 32, seed = 3):\n",
    "    \n",
    "    np.random.seed(seed)            \n",
    "    m = X.shape[0]                  # number of training examples\n",
    "    mini_batches = []\n",
    "        \n",
    "    # Step 1: Shuffle (X, Y)\n",
    "    permutation = list(np.random.permutation(m))\n",
    "    shuffled_X = X[permutation,:,:,:]\n",
    "    shuffled_Y = Y[permutation].reshape((m,1))\n",
    "\n",
    "    # Step 2: Partition (shuffled_X, shuffled_Y). Excluding the end case.\n",
    "    num_complete_minibatches = math.floor(m/mini_batch_size) # number of complete mini batches of size mini_batch_size\n",
    "    for k in range(0, num_complete_minibatches):\n",
    "        mini_batch_X = shuffled_X[mini_batch_size*k : mini_batch_size*(k+1), :, :, :]\n",
    "        mini_batch_Y = shuffled_Y[mini_batch_size*k : mini_batch_size*(k+1), :]\n",
    "        mini_batch = (mini_batch_X, mini_batch_Y)\n",
    "        mini_batches.append(mini_batch)\n",
    "    \n",
    "    # Handling the end case (last mini-batch < mini_batch_size)\n",
    "    if m % mini_batch_size != 0:\n",
    "        mini_batch_X = shuffled_X[mini_batch_size*num_complete_minibatches : , :, :, :]\n",
    "        mini_batch_Y = shuffled_Y[mini_batch_size*num_complete_minibatches : , :]\n",
    "        mini_batch = (mini_batch_X, mini_batch_Y)\n",
    "        mini_batches.append(mini_batch)\n",
    "    \n",
    "    return mini_batches"
   ]
  },
  {
   "cell_type": "markdown",
   "execution_count": null,
   "metadata": {
    "id": "8gwF0PMjL_-A"
   },
   "source": [
    "### **Define the Network Architechture**"
   ]
  },
  {
   "cell_type": "code",
   "execution_count": 12,
   "metadata": {
    "id": "gtmWxSUlwUB4"
   },
   "outputs": [],
   "source": [
    "#An architechture inspired from the famous LeNet5 architechture\n",
    "\n",
    "class Net(nn.Module):\n",
    "    def __init__(self):\n",
    "        super(Net, self).__init__()\n",
    "        \n",
    "        self.conv1 = nn.Conv2d(1, 6, kernel_size = 5, stride = 1, padding = 0) #input size:1*32*32 , output size: 6*28*28 \n",
    "        self.max_pool_1 = nn.MaxPool2d(kernel_size=2) #input size:6*28*28 , output size: 6*14*14 \n",
    "        self.batch_norm_1 = nn.BatchNorm2d(6) #normalizes the input to the next conv2d layer\n",
    "        self.conv2 = nn.Conv2d(6, 16, kernel_size = 5, stride = 1, padding = 0) #input size:6*14*14 , output size: 16*10*10 \n",
    "        self.max_pool_2 = nn.MaxPool2d(kernel_size=2) #input size:16*10*10 , output size:16*5*5 \n",
    "        self.batch_norm_2 = nn.BatchNorm2d(16) #normalizes the input to the next fully connected layer\n",
    "        self.fc1 = nn.Linear(16*5*5, 120) #input size:16*5*5 , output size: 120\n",
    "        self.dropout_1 = nn.Dropout(p = 0.5) #dropout for regularization (to prevent overfitting on the train set)\n",
    "        self.fc2 = nn.Linear(120, 84) #input size:120 , output size: 84\n",
    "        self.dropout_2 = nn.Dropout(p = 0.5) #dropout for regularization (to prevent overfitting on the train set)\n",
    "        self.fc3 = nn.Linear(84, 10) #input size:84 , output size: 10 (no. of classes for our problem)\n",
    "\n",
    "#define the data flow\n",
    "    def forward(self, x):\n",
    "        \n",
    "        x = F.relu(self.conv1(x))\n",
    "        x = self.max_pool_1(x)\n",
    "        x = self.batch_norm_1(x)\n",
    "        x = x = F.relu(self.conv2(x))\n",
    "        x = self.max_pool_2(x)\n",
    "        x = self.batch_norm_2(x)\n",
    "        x = x.view(-1, 16*5*5) #reshape for input to the fully connected layer 1 (fc1)\n",
    "        x = F.relu(self.fc1(x))\n",
    "        x = self.dropout_1(x)\n",
    "        x = F.relu(self.fc2(x))\n",
    "        x = self.dropout_2(x)\n",
    "        x = self.fc3(x)\n",
    "        return F.log_softmax(x, dim = 1)"
   ]
  },
  {
   "cell_type": "markdown",
   "execution_count": null,
   "metadata": {
    "id": "HLs_K9GBQjwB"
   },
   "source": [
    "### **Define model, optimizer, loss function**"
   ]
  },
  {
   "cell_type": "code",
   "execution_count": 13,
   "metadata": {
    "id": "0KJyoa74wYXT",
    "outputId": "d1fc29fa-0b60-4142-8e26-6f8121179ee9"
   },
   "outputs": [
    {
     "name": "stdout",
     "output_type": "stream",
     "text": [
      "Net(\n",
      "  (conv1): Conv2d(1, 6, kernel_size=(5, 5), stride=(1, 1))\n",
      "  (max_pool_1): MaxPool2d(kernel_size=2, stride=2, padding=0, dilation=1, ceil_mode=False)\n",
      "  (batch_norm_1): BatchNorm2d(6, eps=1e-05, momentum=0.1, affine=True, track_running_stats=True)\n",
      "  (conv2): Conv2d(6, 16, kernel_size=(5, 5), stride=(1, 1))\n",
      "  (max_pool_2): MaxPool2d(kernel_size=2, stride=2, padding=0, dilation=1, ceil_mode=False)\n",
      "  (batch_norm_2): BatchNorm2d(16, eps=1e-05, momentum=0.1, affine=True, track_running_stats=True)\n",
      "  (fc1): Linear(in_features=400, out_features=120, bias=True)\n",
      "  (dropout_1): Dropout(p=0.5, inplace=False)\n",
      "  (fc2): Linear(in_features=120, out_features=84, bias=True)\n",
      "  (dropout_2): Dropout(p=0.5, inplace=False)\n",
      "  (fc3): Linear(in_features=84, out_features=10, bias=True)\n",
      ")\n"
     ]
    }
   ],
   "source": [
    "# defining the model\n",
    "model = Net()\n",
    "model = model.float()\n",
    "\n",
    "# defining the optimizer\n",
    "learning_rate = 0.0004\n",
    "optimizer = optim.Adam(model.parameters(), lr = learning_rate) #Adam optimizer\n",
    "\n",
    "# defining the loss function\n",
    "values, counts = np.unique(y_train.float(), return_counts = True)\n",
    "weights = sum(counts)/counts\n",
    "weights = torch.tensor(weights, dtype = torch.float)\n",
    "criterion = nn.CrossEntropyLoss(weight = weights) #weights used to deal with the Class Imbalance problem\n",
    "\n",
    "# checking if GPU is available\n",
    "if torch.cuda.is_available():\n",
    "    model = model.cuda()\n",
    "    criterion = criterion.cuda()\n",
    "    \n",
    "print(model) "
   ]
  },
  {
   "cell_type": "markdown",
   "execution_count": null,
   "metadata": {
    "id": "d90Xkpw6Q_14"
   },
   "source": [
    "### **Training function**"
   ]
  },
  {
   "cell_type": "code",
   "execution_count": 14,
   "metadata": {
    "id": "r8P-pVzswbl_"
   },
   "outputs": [],
   "source": [
    "def train(epoch, X_train, y_train, X_val, y_val):\n",
    "    \n",
    "    model.train()\n",
    "\n",
    "    # converting the data into GPU format\n",
    "    if torch.cuda.is_available():\n",
    "        X_train = X_train.cuda()\n",
    "        y_train = y_train.cuda()\n",
    "        X_val = X_val.cuda()\n",
    "        y_val = y_val.cuda()\n",
    "\n",
    "    # clearing the Gradients of the model parameters\n",
    "    optimizer.zero_grad()\n",
    "    \n",
    "    # prediction for training and validation set\n",
    "    output_train = model(X_train.float())\n",
    "    output_val = model(X_val.float())\n",
    "    \n",
    "    # computing the training and validation loss\n",
    "    loss_train = criterion(output_train, y_train.long())\n",
    "    loss_val = criterion(output_val, y_val.long())\n",
    "        \n",
    "    # computing the predictions for training and validation set\n",
    "    preds_train = torch.argmax(output_train,dim=1)\n",
    "    preds_val = torch.argmax(output_val,dim=1)\n",
    "\n",
    "    # computing the updated weights of all the model parameters\n",
    "    loss_train.backward()\n",
    "    optimizer.step()\n",
    "\n",
    "    return((loss_val, preds_val), (loss_train, preds_train))"
   ]
  },
  {
   "cell_type": "markdown",
   "execution_count": null,
   "metadata": {
    "id": "l1eGM3HPR_rm"
   },
   "source": [
    "### **Training the dataset**"
   ]
  },
  {
   "cell_type": "code",
   "execution_count": 15,
   "metadata": {
    "id": "I_WBXxaJwhLA",
    "outputId": "6599e7bf-6ae4-4a3b-e693-2cffb16cdc17"
   },
   "outputs": [
    {
     "name": "stdout",
     "output_type": "stream",
     "text": [
      "Epoch 2/50 : Validation loss: 2.1288 | Validation Accuracy: 30.4730\n",
      "Epoch 4/50 : Validation loss: 1.4082 | Validation Accuracy: 55.0553\n",
      "Epoch 6/50 : Validation loss: 0.9292 | Validation Accuracy: 68.7505\n",
      "Epoch 8/50 : Validation loss: 0.6895 | Validation Accuracy: 76.7746\n",
      "Epoch 10/50 : Validation loss: 0.5374 | Validation Accuracy: 82.0927\n",
      "Epoch 12/50 : Validation loss: 0.4732 | Validation Accuracy: 84.0850\n",
      "Epoch 14/50 : Validation loss: 0.4149 | Validation Accuracy: 85.8891\n",
      "Epoch 16/50 : Validation loss: 0.3836 | Validation Accuracy: 87.1676\n",
      "Epoch 18/50 : Validation loss: 0.3620 | Validation Accuracy: 88.2657\n",
      "Epoch 20/50 : Validation loss: 0.3292 | Validation Accuracy: 88.9168\n",
      "Epoch 22/50 : Validation loss: 0.3095 | Validation Accuracy: 89.4972\n",
      "Epoch 24/50 : Validation loss: 0.2920 | Validation Accuracy: 89.9992\n",
      "Epoch 26/50 : Validation loss: 0.2749 | Validation Accuracy: 90.5326\n",
      "Epoch 28/50 : Validation loss: 0.2763 | Validation Accuracy: 90.5953\n",
      "Epoch 30/50 : Validation loss: 0.2645 | Validation Accuracy: 91.4268\n",
      "Epoch 32/50 : Validation loss: 0.2706 | Validation Accuracy: 91.6386\n",
      "Epoch 34/50 : Validation loss: 0.2670 | Validation Accuracy: 91.5601\n",
      "Epoch 36/50 : Validation loss: 0.2955 | Validation Accuracy: 91.1287\n",
      "Epoch 38/50 : Validation loss: 0.2594 | Validation Accuracy: 91.8111\n",
      "Epoch 40/50 : Validation loss: 0.2542 | Validation Accuracy: 91.8739\n",
      "Epoch 42/50 : Validation loss: 0.2867 | Validation Accuracy: 91.3405\n",
      "Epoch 44/50 : Validation loss: 0.2776 | Validation Accuracy: 91.5601\n",
      "Epoch 46/50 : Validation loss: 0.3162 | Validation Accuracy: 91.0895\n",
      "Epoch 48/50 : Validation loss: 0.2867 | Validation Accuracy: 91.2464\n",
      "Epoch 50/50 : Validation loss: 0.2893 | Validation Accuracy: 91.4032\n"
     ]
    }
   ],
   "source": [
    "seed = 3 #random seed\n",
    "n_epochs = 50 #number of epochs\n",
    "mini_batch_size = 16 #size of the mini batch\n",
    "m = X_train.shape[0] #no of training examples\n",
    "n_batches = np.ceil(y_train.shape[0]/mini_batch_size) #no of batches\n",
    "\n",
    "# empty lists to store training losses, accuracy\n",
    "train_losses = []\n",
    "train_accuracy = []\n",
    "\n",
    "# empty lists to store validation losses, accuracy\n",
    "val_losses = []\n",
    "val_accuracy = []\n",
    "\n",
    "# training the model\n",
    "for epoch in range(n_epochs):\n",
    "    \n",
    "    val_running_loss = 0\n",
    "    val_running_corr = 0\n",
    "    train_running_loss = 0\n",
    "    train_running_corr = 0\n",
    "    seed += 1 #change the seed to reshuffle the dataset differently after each epoch \n",
    "    minibatches = random_mini_batches(X_train, y_train, mini_batch_size, seed) #get the minibacthes\n",
    "    i = 0\n",
    "    \n",
    "    for minibatch in minibatches:\n",
    "        \n",
    "        (minibatch_X, minibatch_Y) = minibatch\n",
    "        size = minibatch_Y.shape[0] #get the size of minibatch_Y\n",
    "        minibatch_Y = torch.reshape(minibatch_Y, (size,)) #reshape appropriately \n",
    "        (loss_val, preds_val), (loss_train, preds_train) = train(epoch, minibatch_X, minibatch_Y, X_val, y_val) #get the losses and predictions after training\n",
    "        \n",
    "        val_running_loss += loss_val \n",
    "        val_running_corr += torch.sum(preds_val == y_val.long())\n",
    "        train_running_loss += loss_train \n",
    "        train_running_corr += torch.sum(preds_train == minibatch_Y.long())\n",
    "        i = i+1\n",
    "        \n",
    "    val_epoch_loss = val_running_loss.item()/i\n",
    "    val_epoch_acc = val_running_corr.item()/(X_val.shape[0] * i)\n",
    "    if((epoch+1)%2 == 0):\n",
    "        print('Epoch {:.0f}/{:.0f} : Validation loss: {:.4f} | Validation Accuracy: {:.4f}'.format(epoch+1,n_epochs,val_epoch_loss,val_epoch_acc*100))\n",
    "    \n",
    "    train_epoch_loss = train_running_loss.item()/i\n",
    "    train_epoch_acc = train_running_corr.item()/X_train.shape[0]\n",
    "    \n",
    "    #append the losses and accuracies to the lists\n",
    "    train_losses.append(train_epoch_loss)\n",
    "    val_losses.append(val_epoch_loss)\n",
    "    train_accuracy.append(train_epoch_acc)\n",
    "    val_accuracy.append(val_epoch_acc)"
   ]
  },
  {
   "cell_type": "markdown",
   "execution_count": null,
   "metadata": {
    "id": "iJ_f6HppUOxA"
   },
   "source": [
    "### **Plot the training and validation loss curves**"
   ]
  },
  {
   "cell_type": "code",
   "execution_count": 16,
   "metadata": {
    "id": "sGmpD0DH-shK",
    "outputId": "a45af96b-08a5-407b-e4fa-539135fa7488"
   },
   "outputs": [
    {
     "data": {
      "image/png": "[encoded data removed]",
      "text/plain": [
       "<Figure size 432x288 with 1 Axes>"
      ]
     },
     "metadata": {
      "needs_background": "light"
     },
     "output_type": "display_data"
    }
   ],
   "source": [
    "plt.plot(train_losses, label='Training loss')\n",
    "plt.plot(val_losses, label='Validation loss')\n",
    "plt.legend()\n",
    "plt.show()"
   ]
  },
  {
   "cell_type": "markdown",
   "execution_count": null,
   "metadata": {
    "id": "JYxK-KvzTqJD"
   },
   "source": [
    "### **Check the model accuracy on the unseen test set**"
   ]
  },
  {
   "cell_type": "code",
   "execution_count": 17,
   "metadata": {
    "id": "fFHoWqciyW5g",
    "outputId": "2f2d03bc-1040-4ef4-8255-2fc317a11bd3"
   },
   "outputs": [
    {
     "name": "stdout",
     "output_type": "stream",
     "text": [
      "Testing accuracy is: 89.4737\n"
     ]
    }
   ],
   "source": [
    "if torch.cuda.is_available():\n",
    "    X_test = X_test.cuda()\n",
    "    y_test = y_test.cuda()\n",
    "output_test = model(X_test.float())\n",
    "output_test = torch.exp(output_test)\n",
    "preds_test =  torch.argmax(output_test,dim=1)\n",
    "test_acc = 100*torch.sum(preds_test == y_test.long()).item()/len(y_test)\n",
    "print('Testing accuracy is: %0.4f'%test_acc)"
   ]
  },
  {
   "cell_type": "markdown",
   "execution_count": null,
   "metadata": {},
   "source": [
    "### **Model complexity calculations**"
   ]
  },
  {
   "cell_type": "markdown",
   "execution_count": null,
   "metadata": {},
   "source": [
    "1. **Conv2d layer 1:** #input size: 1x32x32 , output size: 6x28x28 <br>\n",
    "Params = (cwh + 1)k = ((1 * 5 * 5) + 1) * 6 = 156 <br>\n",
    "Flops = (cwh + 1)k * Ow * Oh = ((1 * 5 * 5) + 1) * 6 * 28 * 28 = 122304 <br>\n",
    "\n",
    "2. **ReLU:** #input size: 6x28x28  , output size: 6x28x28 <br>\n",
    "Params = 0 <br>\n",
    "Flops = 2cMN = 2 * 6 * 28 * 28 = 9408 <br>\n",
    "\n",
    "3. **Max pool layer 1:** #input size: 6x28x28  , output size: 6x14x14 <br>\n",
    "Params = 0 <br>\n",
    "Flops = c*(wh - 1) * Ow * Oh = 6 * ((2 * 2) - 1) * 14 * 14 = 3528 <br>\n",
    "\n",
    "4. **Conv2d layer 2:** #input size: 6x14x14  , output size: 16x10x10  <br>\n",
    "Params = (cwh + 1)k = ((6 * 5 * 5) + 1) * 16 = 2416 <br>\n",
    "Flops = (cwh + 1)k * Ow * Oh = ((6 * 5 * 5) + 1) * 16 * 10 * 10 = 241600 <br>\n",
    "\n",
    "5. **ReLU:** #input size:  16x10x10   , output size:  16x10x10   <br>\n",
    "Params = 0 <br>\n",
    "Flops = 2cMN = 2 * 16 * 10 * 10 = 3200 <br>\n",
    "\n",
    "6. **Max pool layer 2:** #input size: 16x10x10  , output size: 16x5x5  <br>\n",
    "Params = 0 <br>\n",
    "Flops = c*(wh - 1) * Ow * Oh = 16*((2 * 2) - 1) * 5 * 5 = 1200 <br>\n",
    "\n",
    "7. **Fully connected layer 1:** #input size: 16x5x5, output size: 120 <br>\n",
    "Params = (n + 1)k = (16 * 5 * 5 + 1) * 120 = 48120 <br>\n",
    "Flops = (n + 1)k = (16 * 5 * 5 + 1) * 120 = 48120 <br>\n",
    "\n",
    "8. **ReLU:** #input size: 120, output size: 120 <br>\n",
    "Params = 0 <br>\n",
    "Flops = 2n = 2 * 120 = 240 <br>\n",
    "\n",
    "9. **Fully connected layer 2:** #input size: 120, output size: 84 <br>\n",
    "Params = (n + 1)k = (120 + 1) * 84 = 10164 <br>\n",
    "Flops = (n + 1)k = (120 + 1) * 84 = 10164 <br>\n",
    "\n",
    "10. **ReLU:** #input size: 84, output size: 84 <br>\n",
    "Params = 0 <br>\n",
    "Flops = 2n = 2 * 84 = 168 <br>\n",
    "\n",
    "11. **Fully connected layer 3:** #input size: 84, output size: 10 <br>\n",
    "Params = (n + 1)k = (84 + 1) * 10 = 850 <br>\n",
    "Flops = (n + 1)k = (84 + 1) * 10 = 850 <br>\n",
    "\n",
    "**Total Params = 61,706 <br>\n",
    "Total FLOPS = 440,782 <br>**\n",
    "\n",
    "Note: Assuming that #params and #flops for dropout and batch normalization layers ~ 0"
   ]
  }
 ],
 "metadata": {
  "kernelspec": {
   "display_name": "Python 3",
   "language": "python",
   "name": "python3"
  },
  "language_info": {
   "codemirror_mode": {
    "name": "ipython",
    "version": 3
   },
   "file_extension": ".py",
   "mimetype": "text/x-python",
   "name": "python",
   "nbconvert_exporter": "python",
   "pygments_lexer": "ipython3",
   "version": "3.7.6"
  }
 },
 "nbformat": 4,
 "nbformat_minor": 4
}
